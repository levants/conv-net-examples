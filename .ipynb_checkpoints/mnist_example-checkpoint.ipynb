{
 "cells": [
  {
   "cell_type": "markdown",
   "metadata": {},
   "source": [
    "Convolutional Neural Networks for MNIST dataset"
   ]
  },
  {
   "cell_type": "markdown",
   "metadata": {},
   "source": [
    "Configure training flags"
   ]
  },
  {
   "cell_type": "code",
   "execution_count": 1,
   "metadata": {
    "collapsed": true
   },
   "outputs": [],
   "source": [
    "import os\n",
    "import sys\n",
    "\n",
    "nb_dir = os.path.split(os.getcwd())[0]\n",
    "if nb_dir not in sys.path:\n",
    "    sys.path.append(nb_dir)"
   ]
  },
  {
   "cell_type": "code",
   "execution_count": 2,
   "metadata": {
    "collapsed": true
   },
   "outputs": [],
   "source": [
    "from __future__ import absolute_import\n",
    "from __future__ import division\n",
    "from __future__ import print_function\n",
    "\n",
    "import torch\n",
    "import matplotlib.pyplot as plt\n",
    "import numpy as np\n",
    "\n",
    "from cnn.mnist.cnn_files import files as _files\n",
    "\n",
    "plt.ion()\n",
    "\n",
    "def init_training_flags():\n",
    "    \n",
    "    tr_flags = type('TrainingFlags', (object,), {})\n",
    "    \n",
    "    tr_flags.batch_size = 64\n",
    "    tr_flags.test_batch_size = 1000\n",
    "    tr_flags.epochs = 10\n",
    "    tr_flags.no_cuda = False\n",
    "    tr_flags.seed = 1\n",
    "    tr_flags.log_interval = 10\n",
    "    tr_flags.weights = _files.model_file('mnist_weights.pth.tar')\n",
    "    tr_flags.lr = 0.01\n",
    "    tr_flags.momentum = 0.5\n",
    "    \n",
    "    # System configuration\n",
    "    tr_flags.num_workers=8\n",
    "    \n",
    "    tr_flags.cuda = False\n",
    "\n",
    "    return tr_flags\n",
    "    \n"
   ]
  },
  {
   "cell_type": "markdown",
   "metadata": {},
   "source": [
    "Prepare datasets"
   ]
  },
  {
   "cell_type": "code",
   "execution_count": 3,
   "metadata": {
    "collapsed": true
   },
   "outputs": [],
   "source": [
    "from torch import optim\n",
    "from torch.autograd import Variable\n",
    "from torchvision import (datasets, transforms)\n",
    "\n",
    "flags = init_training_flags()\n",
    "\n",
    "torch.manual_seed(flags.seed)\n",
    "if flags.cuda:\n",
    "  torch.cuda.manual_seed(flags.seed)\n",
    "\n",
    "kwargs = {'num_workers': flags.num_workers, 'pin_memory': True} if flags.cuda else {}\n",
    "train_loader = torch.utils.data.DataLoader(\n",
    "  datasets.MNIST(_files.data_dir, train=True, download=True,\n",
    "                 transform=transforms.Compose([\n",
    "                     transforms.ToTensor(),\n",
    "                     transforms.Normalize((0.1307,), (0.3081,))\n",
    "                 ])),\n",
    "  batch_size=flags.batch_size, shuffle=True, **kwargs)\n",
    "test_loader = torch.utils.data.DataLoader(\n",
    "  datasets.MNIST(_files.data_dir, train=False, transform=transforms.Compose([\n",
    "                     transforms.ToTensor(),\n",
    "                     transforms.Normalize((0.1307,), (0.3081,))\n",
    "                 ])),\n",
    "  batch_size=flags.test_batch_size, shuffle=True, **kwargs)"
   ]
  },
  {
   "cell_type": "markdown",
   "metadata": {},
   "source": [
    "Initialize model"
   ]
  },
  {
   "cell_type": "code",
   "execution_count": 4,
   "metadata": {
    "collapsed": true
   },
   "outputs": [],
   "source": [
    "from __future__ import absolute_import\n",
    "from __future__ import division\n",
    "from __future__ import print_function\n",
    "\n",
    "from collections import OrderedDict\n",
    "\n",
    "from torch import nn\n",
    "\n",
    "import torch.nn.functional as F\n",
    "\n",
    "from utils.models.layers import Flatten\n",
    "\n",
    "\n",
    "class LeNetClassic(nn.Module):\n",
    "  \"\"\"Network model without flatten layer\n",
    "   for character recognition\"\"\"\n",
    "  \n",
    "  def __init__(self):\n",
    "    super(LeNetClassic, self).__init__()\n",
    "    self.conv1 = nn.Conv2d(1, 10, kernel_size=5)\n",
    "    self.conv2 = nn.Conv2d(10, 20, kernel_size=5)\n",
    "    self.conv2_drop = nn.Dropout2d()\n",
    "    self.fc1 = nn.Linear(320, 50)\n",
    "    self.fc2 = nn.Linear(50, 10)\n",
    "  \n",
    "  def forward(self, x):\n",
    "      \n",
    "    x = F.relu(F.max_pool2d(self.conv1(x), 2))\n",
    "    x = F.relu(F.max_pool2d(self.conv2_drop(self.conv2(x)), 2))\n",
    "    x = x.view(x.size(0), 320)\n",
    "    x = F.relu(self.fc1(x))\n",
    "    x = F.dropout(x, training=self.training)\n",
    "    x = self.fc2(x)\n",
    "    result = F.log_softmax(x)\n",
    "    \n",
    "    return result\n",
    "\n",
    "\n",
    "class LeNet(nn.Module):\n",
    "  \"\"\"Network model with flatten layer\n",
    "   for character recognition\"\"\"\n",
    "  \n",
    "  def __init__(self):\n",
    "    super(LeNet, self).__init__()\n",
    "    self.conv1 = nn.Conv2d(1, 10, kernel_size=5)\n",
    "    self.conv2 = nn.Conv2d(10, 20, kernel_size=5)\n",
    "    self.conv2_drop = nn.Dropout2d()\n",
    "    self.flatten = Flatten(50)\n",
    "    self.fc2 = nn.Linear(50, 10)\n",
    "  \n",
    "  def forward(self, x):\n",
    "      \n",
    "    x = F.relu(F.max_pool2d(self.conv1(x), 2))\n",
    "    x = F.relu(F.max_pool2d(self.conv2_drop(self.conv2(x)), 2))\n",
    "    x = self.flatten(x)\n",
    "    x = F.relu(x)\n",
    "    x = F.dropout(x, training=self.training)\n",
    "    x = self.fc2(x)\n",
    "    result = F.log_softmax(x)\n",
    "    \n",
    "    return result\n",
    "\n",
    "\n",
    "class LeNetSequential(nn.Module):\n",
    "  \"\"\"Network model with flatten layer\n",
    "   for character recognition\"\"\"\n",
    "  \n",
    "  def __init__(self):\n",
    "    super(LeNetSequential, self).__init__()\n",
    "    self.conv_part = nn.Sequential(nn.Conv2d(1, 10, kernel_size=5),\n",
    "                                   nn.MaxPool2d(2, 2),\n",
    "                                   nn.ReLU(),\n",
    "                                   nn.Conv2d(10, 20, kernel_size=5),\n",
    "                                   nn.MaxPool2d(2, 2),\n",
    "                                   nn.ReLU(),\n",
    "                                   nn.Dropout2d())\n",
    "    self.flatten = Flatten(50)\n",
    "    self.fc2 = nn.Linear(50, 10)\n",
    "  \n",
    "  def forward(self, x):\n",
    "      \n",
    "    x = self.conv_part(x)\n",
    "    x = self.flatten(x)\n",
    "    x = F.relu(x)\n",
    "    x = F.dropout(x, training=self.training)\n",
    "    x = self.fc2(x)\n",
    "    result = F.log_softmax(x)\n",
    "    \n",
    "    return result\n",
    "  \n",
    "  \n",
    "class LeNetSequentialDict(nn.Module):\n",
    "  \"\"\"Network model with flatten layer\n",
    "   for character recognition\"\"\"\n",
    "  \n",
    "  def __init__(self):\n",
    "    super(LeNetSequentialDict, self).__init__()\n",
    "    self.conv_part = nn.Sequential(OrderedDict([\n",
    "                                   ('conv1', nn.Conv2d(1, 10, kernel_size=5)),\n",
    "                                   ('mxpl1', nn.MaxPool2d(2, 2)),\n",
    "                                   ('relu1', nn.ReLU()),\n",
    "                                   ('conv2', nn.Conv2d(10, 20, kernel_size=5)),\n",
    "                                   ('mxol2', nn.MaxPool2d(2, 2)),\n",
    "                                   ('relu2', nn.ReLU()),\n",
    "                                   ('drop1', nn.Dropout2d())]))\n",
    "    self.flatten = Flatten(50)\n",
    "    self.fc2 = nn.Linear(50, 10)\n",
    "  \n",
    "  def forward(self, x):\n",
    "      \n",
    "    x = self.conv_part(x)\n",
    "    x = self.flatten(x)\n",
    "    x = F.relu(x)\n",
    "    x = F.dropout(x, training=self.training)\n",
    "    x = self.fc2(x)\n",
    "    result = F.log_softmax(x)\n",
    "    \n",
    "    return result\n",
    "\n"
   ]
  },
  {
   "cell_type": "markdown",
   "metadata": {},
   "source": [
    "Traing the network"
   ]
  },
  {
   "cell_type": "code",
   "execution_count": 5,
   "metadata": {},
   "outputs": [
    {
     "ename": "NameError",
     "evalue": "name 'LetterNet' is not defined",
     "output_type": "error",
     "traceback": [
      "\u001b[0;31m---------------------------------------------------------------------------\u001b[0m",
      "\u001b[0;31mNameError\u001b[0m                                 Traceback (most recent call last)",
      "\u001b[0;32m<ipython-input-5-dcfe726f273c>\u001b[0m in \u001b[0;36m<module>\u001b[0;34m()\u001b[0m\n\u001b[1;32m     48\u001b[0m       100. * correct / len(test_loader.dataset)))\n\u001b[1;32m     49\u001b[0m \u001b[0;34m\u001b[0m\u001b[0m\n\u001b[0;32m---> 50\u001b[0;31m \u001b[0mmodel\u001b[0m \u001b[0;34m=\u001b[0m \u001b[0mLetterNet\u001b[0m\u001b[0;34m(\u001b[0m\u001b[0;34m)\u001b[0m\u001b[0;34m\u001b[0m\u001b[0m\n\u001b[0m\u001b[1;32m     51\u001b[0m \u001b[0;34m\u001b[0m\u001b[0m\n\u001b[1;32m     52\u001b[0m \u001b[0;32mif\u001b[0m \u001b[0mflags\u001b[0m\u001b[0;34m.\u001b[0m\u001b[0mcuda\u001b[0m\u001b[0;34m:\u001b[0m\u001b[0;34m\u001b[0m\u001b[0m\n",
      "\u001b[0;31mNameError\u001b[0m: name 'LetterNet' is not defined"
     ]
    }
   ],
   "source": [
    "def train(epoch, training_config):\n",
    "  \"\"\"Train network model\n",
    "    Args:\n",
    "      epoch - current epoch\n",
    "      training_config - training configuration tuple\n",
    "  \"\"\"\n",
    "    \n",
    "  (train_loader, model, optimizer, flags) = training_config\n",
    "  model.train()\n",
    "  for (batch_idx, (data, target)) in enumerate(train_loader):\n",
    "    if flags.cuda:\n",
    "        (data, target) = (data.cuda(), target.cusa())\n",
    "    (data, target) = (Variable(data), Variable(target))\n",
    "    optimizer.zero_grad()\n",
    "    output = model(data)\n",
    "    loss = F.nll_loss(output, target)\n",
    "    loss.backward()\n",
    "    optimizer.step()\n",
    "    if batch_idx % flags.log_interval == 0:\n",
    "      print('Train Epoch: {} [{}/{} ({:.0f}%)]\\tLoss: {:.6f}'.format(\n",
    "          epoch, batch_idx * len(data), len(train_loader.dataset),\n",
    "          100. * batch_idx / len(train_loader), loss.data[0]))\n",
    "  torch.save(model.state_dict(), flags.weights)\n",
    "  \n",
    "\n",
    "def test(test_loader, model, flags):\n",
    "  \"\"\"Test network\n",
    "    test_loader - test data loader\n",
    "    model - network model\n",
    "    flags - configuration parameters\n",
    "  \"\"\"\n",
    "    \n",
    "  model.eval()\n",
    "  test_loss = 0\n",
    "  correct = 0\n",
    "  for (data, target) in test_loader:\n",
    "    if flags.cuda:\n",
    "        (data, target) = (data.cuda(), target.cusa())\n",
    "    (data, target) = (Variable(data, volatile=True), Variable(target))\n",
    "    output = model(data)\n",
    "    test_loss += F.nll_loss(output, target, size_average=False).data[0]  # sum up batch loss\n",
    "    pred = output.data.max(1, keepdim=True)[1]  # get the index of the max log-probability\n",
    "    correct += pred.eq(target.data.view_as(pred)).cpu().sum()\n",
    "\n",
    "  test_loss /= len(test_loader.dataset)\n",
    "  print('\\nTest set: Average loss: {:.4f}, Accuracy: {}/{} ({:.0f}%)\\n'.format(\n",
    "      test_loss, correct, len(test_loader.dataset),\n",
    "      100. * correct / len(test_loader.dataset)))\n",
    "\n",
    "model = LeNet()\n",
    "\n",
    "if flags.cuda:\n",
    "    model.cuda()\n",
    "\n",
    "print('End=attachment')\n",
    "optimizer = optim.SGD(model.parameters(), lr=flags.lr, momentum=flags.momentum)\n",
    "training_config = (train_loader, model, optimizer, flags)\n",
    "for epoch in range(1, flags.epochs + 1):\n",
    "    train(epoch, training_config)\n",
    "    test(test_loader, model, flags)"
   ]
  },
  {
   "cell_type": "code",
   "execution_count": null,
   "metadata": {
    "collapsed": true
   },
   "outputs": [],
   "source": []
  }
 ],
 "metadata": {
  "kernelspec": {
   "display_name": "Python 2",
   "language": "python",
   "name": "python2"
  },
  "language_info": {
   "codemirror_mode": {
    "name": "ipython",
    "version": 2
   },
   "file_extension": ".py",
   "mimetype": "text/x-python",
   "name": "python",
   "nbconvert_exporter": "python",
   "pygments_lexer": "ipython2",
   "version": "2.7.14"
  },
  "widgets": {
   "state": {
    "3b860209fd524db79874d730ef475323": {
     "views": [
      {
       "cell_index": 9
      }
     ]
    },
    "769b91cccae94fce80655dfdac528be9": {
     "views": [
      {
       "cell_index": 9
      }
     ]
    },
    "865355fe8fa7423f8f71bf84792d1057": {
     "views": [
      {
       "cell_index": 9
      }
     ]
    },
    "9fab060726564a0abe4273ed1df30182": {
     "views": [
      {
       "cell_index": 9
      }
     ]
    },
    "affe91b7a70c4ae29c383a2cc1cd15c6": {
     "views": [
      {
       "cell_index": 9
      }
     ]
    }
   },
   "version": "1.2.0"
  }
 },
 "nbformat": 4,
 "nbformat_minor": 2
}
